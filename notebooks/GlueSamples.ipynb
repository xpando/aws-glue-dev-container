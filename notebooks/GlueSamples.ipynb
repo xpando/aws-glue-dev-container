{
 "cells": [
  {
   "cell_type": "code",
   "execution_count": null,
   "id": "03cea5c9-ffaa-4362-907b-4fea6c75b662",
   "metadata": {},
   "outputs": [],
   "source": [
    "import os\n",
    "import requests\n",
    "\n",
    "if not os.path.exists(\"/data/medicare/Medicare_Hospital_Provider.csv\"):\n",
    "    os.makedirs(\"/data/medicare\", exist_ok=True)\n",
    "    url = 'https://awsglue-datasets.s3.amazonaws.com/examples/medicare/Medicare_Hospital_Provider.csv'\n",
    "    r = requests.get(url, allow_redirects=True)\n",
    "    f = open('/data/medicare/Medicare_Hospital_Provider.csv', 'wb')\n",
    "    with r,f:\n",
    "        f.write(r.content)"
   ]
  },
  {
   "cell_type": "code",
   "execution_count": null,
   "id": "22711cc7-ecd8-4fd0-bea4-53936836bcf7",
   "metadata": {},
   "outputs": [],
   "source": [
    "import sys\n",
    "from awsglue.transforms import *\n",
    "from awsglue.utils import getResolvedOptions\n",
    "from pyspark.context import SparkContext\n",
    "from awsglue.context import GlueContext\n",
    "from awsglue.job import Job\n",
    "\n",
    "glueContext = GlueContext(SparkContext.getOrCreate())"
   ]
  },
  {
   "cell_type": "code",
   "execution_count": null,
   "id": "2794a713-e899-4e18-a962-993858be14b9",
   "metadata": {},
   "outputs": [],
   "source": [
    "medicare = spark.read \\\n",
    "    .format(\"com.databricks.spark.csv\") \\\n",
    "    .option(\"header\", \"true\") \\\n",
    "    .option(\"inferSchema\", \"true\") \\\n",
    "    .load('/data/medicare')\n",
    "medicare.printSchema()"
   ]
  },
  {
   "cell_type": "code",
   "execution_count": null,
   "id": "d15ac2fb-0447-49af-9853-297d92056e96",
   "metadata": {},
   "outputs": [],
   "source": [
    "from awsglue.dynamicframe import DynamicFrame\n",
    "medicare_dynamicframe = glueContext.create_dynamic_frame_from_options(\n",
    "    connection_type=\"file\",\n",
    "    connection_options={\n",
    "        \"paths\": [\"/data/medicare/\"],\n",
    "    },\n",
    "    format=\"csv\",\n",
    "    format_options={\n",
    "        \"withHeader\": True,\n",
    "        \"inferSchema\": True,\n",
    "    }\n",
    ")\n",
    "medicare_dynamicframe.printSchema()"
   ]
  },
  {
   "cell_type": "code",
   "execution_count": null,
   "id": "1dde45f4-1b41-47a8-ad3f-29712ae6f9d3",
   "metadata": {},
   "outputs": [],
   "source": []
  },
  {
   "cell_type": "code",
   "execution_count": null,
   "id": "77725355-ad6a-464c-aa75-38d7480aedab",
   "metadata": {},
   "outputs": [],
   "source": []
  }
 ],
 "metadata": {
  "kernelspec": {
   "display_name": "Python 3 (ipykernel)",
   "language": "python",
   "name": "python3"
  },
  "language_info": {
   "codemirror_mode": {
    "name": "ipython",
    "version": 3
   },
   "file_extension": ".py",
   "mimetype": "text/x-python",
   "name": "python",
   "nbconvert_exporter": "python",
   "pygments_lexer": "ipython3",
   "version": "3.7.10"
  }
 },
 "nbformat": 4,
 "nbformat_minor": 5
}
